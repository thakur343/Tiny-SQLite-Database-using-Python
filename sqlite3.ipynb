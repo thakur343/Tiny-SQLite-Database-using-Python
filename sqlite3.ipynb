{
 "cells": [
  {
   "cell_type": "code",
   "execution_count": 1,
   "id": "6152dfc7-cbd8-4626-9d14-18b0f6bb259f",
   "metadata": {},
   "outputs": [],
   "source": [
    "import sqlite3\n",
    "import pandas as pd\n",
    "import matplotlib.pyplot as plt"
   ]
  },
  {
   "cell_type": "code",
   "execution_count": 2,
   "id": "1326c986-485c-4fa6-89e0-2dcd4cb02faf",
   "metadata": {},
   "outputs": [],
   "source": [
    "# Step 1: Connect to SQLite database (it will create one if not exist)\n",
    "conn = sqlite3.connect(\"sales_data.db\")\n",
    "cursor = conn.cursor()"
   ]
  },
  {
   "cell_type": "code",
   "execution_count": 3,
   "id": "fd91a6cc-4559-4f40-829d-f8c20c19b54e",
   "metadata": {},
   "outputs": [
    {
     "data": {
      "text/plain": [
       "<sqlite3.Cursor at 0x2a85e5460c0>"
      ]
     },
     "execution_count": 3,
     "metadata": {},
     "output_type": "execute_result"
    }
   ],
   "source": [
    "# Step 2: Create table if not exists\n",
    "cursor.execute(\"\"\"\n",
    "CREATE TABLE IF NOT EXISTS sales (\n",
    "    id INTEGER PRIMARY KEY AUTOINCREMENT,\n",
    "    product TEXT NOT NULL,\n",
    "    quantity INTEGER NOT NULL,\n",
    "    price REAL NOT NULL\n",
    ")\n",
    "\"\"\")"
   ]
  },
  {
   "cell_type": "code",
   "execution_count": 4,
   "id": "25b263ec-339f-4430-b4ac-a56c605b0502",
   "metadata": {},
   "outputs": [],
   "source": [
    "# Step 3: Insert sample data (only once — comment it after first run)\n",
    "cursor.executemany(\"\"\"\n",
    "INSERT INTO sales (product, quantity, price) VALUES (?, ?, ?)\n",
    "\"\"\", [\n",
    "    ('Apple', 10, 2.0),\n",
    "    ('Banana', 5, 1.5),\n",
    "    ('Orange', 7, 2.5),\n",
    "    ('Apple', 3, 2.0),\n",
    "    ('Banana', 8, 1.5),\n",
    "    ('Orange', 2, 2.5)\n",
    "])\n",
    "conn.commit()"
   ]
  },
  {
   "cell_type": "code",
   "execution_count": 5,
   "id": "a4ab39f0-8dee-452b-9475-fd10573f9adc",
   "metadata": {},
   "outputs": [],
   "source": [
    "# Step 4: Run SQL query\n",
    "query = \"\"\"\n",
    "SELECT \n",
    "    product,\n",
    "    SUM(quantity) AS total_qty,\n",
    "    SUM(quantity * price) AS revenue\n",
    "FROM sales\n",
    "GROUP BY product;\n",
    "\"\"\"\n",
    "\n",
    "df = pd.read_sql_query(query, conn)"
   ]
  },
  {
   "cell_type": "code",
   "execution_count": 6,
   "id": "db838c23-e7b2-4536-9fec-734b08d1813e",
   "metadata": {},
   "outputs": [
    {
     "name": "stdout",
     "output_type": "stream",
     "text": [
      "📋 Sales Summary:\n",
      "  product  total_qty  revenue\n",
      "0   Apple         13     26.0\n",
      "1  Banana         13     19.5\n",
      "2  Orange          9     22.5\n"
     ]
    },
    {
     "data": {
      "image/png": "[encoded data removed]",
      "text/plain": [
       "<Figure size 640x480 with 1 Axes>"
      ]
     },
     "metadata": {},
     "output_type": "display_data"
    }
   ],
   "source": [
    "# Step 5: Print and plot\n",
    "print(\"📋 Sales Summary:\")\n",
    "print(df)\n",
    "\n",
    "df.plot(kind='bar', x='product', y='revenue', color='green', legend=False)\n",
    "plt.title(\"Revenue per Product\")\n",
    "plt.ylabel(\"Revenue\")\n",
    "plt.xlabel(\"Product\")\n",
    "plt.tight_layout()\n",
    "plt.show()"
   ]
  },
  {
   "cell_type": "code",
   "execution_count": 7,
   "id": "3f0eff16-a5cb-43b3-8708-8f899bd8a21c",
   "metadata": {},
   "outputs": [],
   "source": [
    "# Step 6: Close connection\n",
    "conn.close()"
   ]
  },
  {
   "cell_type": "code",
   "execution_count": null,
   "id": "e28b58c6-06be-4cb6-8a54-cfe78c3dda75",
   "metadata": {},
   "outputs": [],
   "source": []
  }
 ],
 "metadata": {
  "kernelspec": {
   "display_name": "Python 3 (ipykernel)",
   "language": "python",
   "name": "python3"
  },
  "language_info": {
   "codemirror_mode": {
    "name": "ipython",
    "version": 3
   },
   "file_extension": ".py",
   "mimetype": "text/x-python",
   "name": "python",
   "nbconvert_exporter": "python",
   "pygments_lexer": "ipython3",
   "version": "3.12.4"
  }
 },
 "nbformat": 4,
 "nbformat_minor": 5
}
